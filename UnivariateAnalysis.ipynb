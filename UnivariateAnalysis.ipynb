{
 "cells": [
  {
   "cell_type": "markdown",
   "id": "4610cadb",
   "metadata": {},
   "source": [
    "# Univariate analysis"
   ]
  },
  {
   "cell_type": "markdown",
   "id": "8f2a2568",
   "metadata": {},
   "source": [
    "### Import the required packages"
   ]
  },
  {
   "cell_type": "code",
   "execution_count": null,
   "id": "4e0ce7ab",
   "metadata": {},
   "outputs": [],
   "source": [
    "!git clone https://github.com/gscorreia89/metabolomics-course-ebi.git\n",
    "%cd metabolomics-course-ebi"
   ]
  },
  {
   "cell_type": "code",
   "execution_count": null,
   "id": "760e527e",
   "metadata": {},
   "outputs": [],
   "source": [
    "library(readr)\n",
    "library(ggplot2)\n",
    "library(doParallel)\n",
    "library(scales)\n",
    "\n",
    "registerDoParallel()"
   ]
  },
  {
   "cell_type": "markdown",
   "id": "b2cab412",
   "metadata": {},
   "source": [
    "### Load the example dataset using pandas"
   ]
  },
  {
   "cell_type": "code",
   "execution_count": null,
   "id": "ef3ffcc3",
   "metadata": {},
   "outputs": [],
   "source": [
    "lcMSDataset <- readr::read_csv('./Data/Dementia_RPOS_XCMS_Dataset.csv')\n",
    "\n",
    "firstMetaboliteColIdx <- 12"
   ]
  },
  {
   "cell_type": "markdown",
   "id": "fe9cb5e6",
   "metadata": {},
   "source": [
    "## Linear model analysis"
   ]
  },
  {
   "cell_type": "markdown",
   "id": "7f432187",
   "metadata": {},
   "source": [
    "Define a function to apply to each metabolite and extract effect size estimates and p-values"
   ]
  },
  {
   "cell_type": "code",
   "execution_count": null,
   "id": "006060d8",
   "metadata": {},
   "outputs": [],
   "source": [
    "fitLMModel <- function(dataset, var) {\n",
    "    \n",
    "  featureName <- colnames(dataset)[var]\n",
    "  lmModel <- lm(log(get(featureName) + 1) ~ Age + Gender, data=dataset)\n",
    "  lmModelSummary <- summary(lmModel)\n",
    "  fStat <- lmModelSummary$fstatistic\n",
    "  r2AOVpval <- pf(fStat[1],fStat[2],fStat[3],lower.tail=F)\n",
    "  \n",
    "  linearModelResults <- c(Feature=featureName, r2=lmModelSummary$r.squared, Age=lmModelSummary$coefficients['Age', 't value'],\n",
    "                                Gender=lmModelSummary$coefficients['GenderMale', 't value'],\n",
    "                                r2_pval=r2AOVpval, \n",
    "                                age_pval=lmModelSummary$coefficients['Age', 'Pr(>|t|)'],\n",
    "                                Gender_pval=lmModelSummary$coefficients['GenderMale', 'Pr(>|t|)']) \n",
    "  \n",
    "return(linearModelResults)\n",
    "  \n",
    "}"
   ]
  },
  {
   "cell_type": "markdown",
   "id": "1336f632",
   "metadata": {},
   "source": [
    "Apply the linear model analysis function to each MS feature (columns)\n"
   ]
  },
  {
   "cell_type": "code",
   "execution_count": null,
   "id": "6f8b98dd",
   "metadata": {},
   "outputs": [],
   "source": [
    "linearModelAnalysis <- foreach(var=firstMetaboliteColIdx:ncol(lcMSDataset), .combine=rbind) %dopar% {\n",
    "    tryCatch({\n",
    "        return(fitLMModel(lcMSDataset, var))\n",
    "    }, error = function(err) {\n",
    "       # In case of crash fill a row of NA's\n",
    "       currmet_parsed <- substring(colnames(lcMSDataset)[var], first=2)\n",
    "       return(c(currmet_parsed, rep(NA,6)))\n",
    "    })\n",
    "}\n",
    "\n",
    "linearModelAnalysis <- data.frame(linearModelAnalysis)\n",
    "linearModelAnalysis[, 2:ncol(linearModelAnalysis)] <- apply(linearModelAnalysis[, 2:ncol(linearModelAnalysis)], 2, as.numeric)"
   ]
  },
  {
   "cell_type": "markdown",
   "id": "8cbdda6c",
   "metadata": {},
   "source": [
    "### Plot p-value and t-ratio distributions for Age"
   ]
  },
  {
   "cell_type": "code",
   "execution_count": null,
   "id": "9058b506",
   "metadata": {},
   "outputs": [],
   "source": [
    "ggplot(linearModelAnalysis, aes(x=age_pval)) + geom_histogram(fill='steelblue3', col='black', bins=100, alpha=0.6) + xlab('Age p-value') + theme_light()\n",
    "ggplot(linearModelAnalysis, aes(x=Age)) + geom_histogram(fill='steelblue3', col='black', bins=100, alpha=0.6) + xlab('Age t-ratio') + theme_light()"
   ]
  },
  {
   "cell_type": "markdown",
   "id": "8f5d8e2c",
   "metadata": {},
   "source": [
    "### Plot p-value and t-ratio distributions for Gender\n"
   ]
  },
  {
   "cell_type": "code",
   "execution_count": null,
   "id": "d4968c18",
   "metadata": {},
   "outputs": [],
   "source": [
    "ggplot(linearModelAnalysis, aes(x=Gender_pval)) + geom_histogram(fill='steelblue3', col='black', bins=100, alpha=0.6) + xlab('Gender p-value') + theme_light()\n",
    "ggplot(linearModelAnalysis, aes(x=Gender)) + geom_histogram(fill='steelblue3', col='black', bins=100, alpha=0.6) + xlab('Gender t-ratio') +theme_light()"
   ]
  },
  {
   "cell_type": "markdown",
   "id": "9c2a182a",
   "metadata": {},
   "source": [
    "## Multiple testing correction"
   ]
  },
  {
   "cell_type": "code",
   "execution_count": null,
   "id": "d6494371",
   "metadata": {},
   "outputs": [],
   "source": [
    "bonferroniAge <- p.adjust(linearModelAnalysis$age_pval, method='bonferroni')\n",
    "BHAge <- p.adjust(linearModelAnalysis$age_pval, method='BH')\n",
    "BYAge <- p.adjust(linearModelAnalysis$age_pval, method='BY')\n",
    "\n",
    "bonferroniGender <- p.adjust(linearModelAnalysis$Gender_pval, method='bonferroni')\n",
    "BHGender <- p.adjust(linearModelAnalysis$Gender_pval, method='BH')\n",
    "BYGender <- p.adjust(linearModelAnalysis$Gender_pval, method='BY')"
   ]
  },
  {
   "cell_type": "markdown",
   "id": "0668498d",
   "metadata": {},
   "source": [
    "## Plot some of the significant features"
   ]
  },
  {
   "cell_type": "code",
   "execution_count": null,
   "id": "0fa0cb76",
   "metadata": {},
   "outputs": [],
   "source": [
    "# Significant feature for Gender\n",
    "feature <- linearModelAnalysis[which.min(BHGender), 'Feature']\n",
    "ggplot(lcMSDataset, aes(x=Gender, y=get(feature))) + geom_boxplot(aes(fill=Gender), alpha=0.4, outlier.shape=NA) + geom_jitter(aes(col=Gender)) + xlab('Gender') + ylab(paste0('log(', feature, ' + 1)')) +  theme_light() + scale_y_continuous(trans = log1p_trans(), breaks = trans_breaks(\"log\", function(x) exp(x)), labels = trans_format(\"log\", math_format(e^.x)))\n",
    "\n",
    "# Significant feature for Age\n",
    "feature <- linearModelAnalysis[which.min(BHAge), 'Feature']\n",
    "ggplot(lcMSDataset, aes(x=Age, y=get(feature))) + geom_point(col='steelblue2') + xlab('Age') + ylab(paste0('log(', feature, ' + 1)')) +  theme_light() + scale_y_continuous(trans = log1p_trans(), breaks = trans_breaks(\"log\", function(x) exp(x)), labels = trans_format(\"log\", math_format(e^.x)))"
   ]
  },
  {
   "cell_type": "markdown",
   "id": "b53bd453",
   "metadata": {},
   "source": [
    "## Save the results"
   ]
  },
  {
   "cell_type": "code",
   "execution_count": null,
   "id": "15b7e3c5",
   "metadata": {},
   "outputs": [],
   "source": [
    "resultsDataFrame <- cbind(linearModelAnalysis, \"FDR_BH_q-value_Gender\" = BHGender, \"FDR_BH_q-value_Age\" = BHAge)\n",
    "write.csv(resultsDataFrame, 'LinearRegressionAnalysis_RPOS.csv')"
   ]
  }
 ],
 "metadata": {
  "kernelspec": {
   "display_name": "Python 3 (ipykernel)",
   "language": "python",
   "name": "python3"
  },
  "language_info": {
   "codemirror_mode": {
    "name": "ipython",
    "version": 3
   },
   "file_extension": ".py",
   "mimetype": "text/x-python",
   "name": "python",
   "nbconvert_exporter": "python",
   "pygments_lexer": "ipython3",
   "version": "3.9.15"
  }
 },
 "nbformat": 4,
 "nbformat_minor": 5
}
